{
 "cells": [
  {
   "cell_type": "code",
   "execution_count": 8,
   "metadata": {},
   "outputs": [
    {
     "data": {
      "text/plain": [
       "[                                          Unnamed: 0\n",
       " 0                                                NaN\n",
       " 1  R. Rio Branco, 196 - Vila Ponta Porã - Cachoei...,\n",
       " Empty DataFrame\n",
       " Columns: [CONTRATO PEDAGÓGICO – 2024]\n",
       " Index: [],\n",
       "                            I. DADOS DE IDENTIFICAÇÃO\n",
       " 0                1. ETAPA\\r(X) ENSINO FUNDAMENTAL II\n",
       " 1                           2. BIMESTRE\\r1° BIMESTRE\n",
       " 2  3. COMPONENTE CURRICULAR (DISCIPLINA)\\rEDUCAÇÃ...\n",
       " 3                              4. ANO/SÉRIE\\r8o e 9o\n",
       " 4                              5. TURMA\\r81, 82 e 91\n",
       " 5                    6. PROFESSOR(A)\\rLeandro Schuck,\n",
       "   II. CONVENÇÕES       Unnamed: 0                           Unnamed: 1  \\\n",
       " 0      AVALIAÇÃO             DATA  OBJETOS DE CONHECIMENTO (CONTEÚDOS)   \n",
       " 1              1  01/04\\ra\\r10/04                 AVALIAÇÃO DE CORRIDA   \n",
       " 2              2  15/04\\ra\\r24/04                            GINÁSTICA   \n",
       " 3              3        AO\\rLONGO                             VOLEIBOL   \n",
       " \n",
       "   Unnamed: 2  \n",
       " 0       NOTA  \n",
       " 1        3,0  \n",
       " 2        2,0  \n",
       " 3        3,0  ,\n",
       "    Unnamed: 0             DO\\rBIMESTRE    Unnamed: 1 Unnamed: 2\n",
       " 0           4  AO\\rLONGO\\rDO\\rBIMESTRE  PARTICIPAÇÃO        2,0,\n",
       " Empty DataFrame\n",
       " Columns: [III. OBSERVAÇÕES\n",
       " ●As datas sugeridas acima podem ser modificadas em razão de alguma mudança\n",
       " de calendário (será avisado previamente);\n",
       " ●A nota referente a participação, refere-se não somente a assiduidade e sim, a\n",
       " participação efetiva das aulas.]\n",
       " Index: []]"
      ]
     },
     "metadata": {},
     "output_type": "display_data"
    }
   ],
   "source": [
    "from tabula import read_pdf\n",
    "from tabula import convert_into\n",
    "import tkinter as tk\n",
    "from tkinter.filedialog import askopenfilename\n",
    "from tkinter import filedialog\n",
    "import pandas as pd\n",
    "root = tk.Tk()\n",
    "root.withdraw()\n",
    "\n",
    "root.withdraw()\n",
    "\n",
    "df = read_pdf(\"Contratos Pedagógicos\\Contratos_Pedagógicos_82\\DOC-20240308-WA0018..pdf\", pages=\"all\", silent=True, lattice=True)\n",
    "\n",
    "display(df)\n",
    "                "
   ]
  }
 ],
 "metadata": {
  "kernelspec": {
   "display_name": "Python 3",
   "language": "python",
   "name": "python3"
  },
  "language_info": {
   "codemirror_mode": {
    "name": "ipython",
    "version": 3
   },
   "file_extension": ".py",
   "mimetype": "text/x-python",
   "name": "python",
   "nbconvert_exporter": "python",
   "pygments_lexer": "ipython3",
   "version": "3.11.8"
  }
 },
 "nbformat": 4,
 "nbformat_minor": 2
}
